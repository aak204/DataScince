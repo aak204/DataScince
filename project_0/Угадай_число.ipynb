{
  "nbformat": 4,
  "nbformat_minor": 0,
  "metadata": {
    "orig_nbformat": 4,
    "language_info": {
      "name": "python",
      "version": "3.7.7",
      "mimetype": "text/x-python",
      "codemirror_mode": {
        "name": "ipython",
        "version": 3
      },
      "pygments_lexer": "ipython3",
      "nbconvert_exporter": "python",
      "file_extension": ".py"
    },
    "kernelspec": {
      "name": "python3",
      "display_name": "Python 3.7.7 64-bit ('ds': conda)"
    },
    "interpreter": {
      "hash": "09714a52f69239c6409b3d073f9f3ca0ddb4056fc648d88f7346d3f36a5c4020"
    },
    "colab": {
      "provenance": []
    }
  },
  "cells": [
    {
      "cell_type": "markdown",
      "metadata": {
        "id": "dWcE-y-N-2fE"
      },
      "source": [
        "# Угадай число\n",
        "Нужно написать программу, которая угадывает число за минимальное число попыток.\n",
        "\n",
        "## Условия соревнования\n",
        "- Компьютер загадывает целое число от 1 до 100, и нам его нужно угадать. Под «угадать», подразумевается «написать программу, которая угадывает число».    \n",
        "- Алгоритм учитывает информацию о том, больше ли случайное число или меньше нужного нам.\n",
        "- Необходимо добиться того, чтобы программа угадывала число меньше, чем за 20 попыток.\n"
      ]
    },
    {
      "cell_type": "markdown",
      "metadata": {
        "id": "4sShzLei_ClF"
      },
      "source": [
        "Импортируем библиотеку, которая нам пригодится для генерации случайных чисел. В следующих темах вы познакомитесь с ней подробнее:"
      ]
    },
    {
      "cell_type": "code",
      "metadata": {
        "id": "KIy8PgXL-2fH"
      },
      "source": [
        "import numpy as np"
      ],
      "execution_count": 1,
      "outputs": []
    },
    {
      "cell_type": "markdown",
      "metadata": {
        "id": "jf8LUtxQBChn"
      },
      "source": [
        "Ниже уже даны два простейших подхода к решению этой задачи. Посмотрим на них."
      ]
    },
    {
      "cell_type": "markdown",
      "metadata": {
        "id": "shciKwTp-2fJ"
      },
      "source": [
        "## Подход 1: Случайное угадывание"
      ]
    },
    {
      "cell_type": "markdown",
      "metadata": {
        "id": "XCYf-uZa-_Oa"
      },
      "source": [
        "Простейший способ решения: научить программу случайным образом выбирать число до тех пор, пока оно не будет угадано. Этот способ не дает хорошего результата, однако будет для нас хорошей стартовой точкой."
      ]
    },
    {
      "cell_type": "code",
      "metadata": {
        "id": "pJaQGNND-2fK"
      },
      "source": [
        "def random_predict(number: int = 1) -> int:\n",
        "    \"\"\"Просто угадываем на random, никак не используя информацию о больше или меньше.\n",
        "       Функция принимает загаданное число и возвращает число попыток\n",
        "\n",
        "    Args:\n",
        "        number (int, optional): Загаданное число. Defaults to 1.\n",
        "\n",
        "    Returns:\n",
        "        int: Число попыток\n",
        "    \"\"\"\n",
        "    count = 0\n",
        "\n",
        "    while True:\n",
        "        count += 1\n",
        "        predict_number = np.random.randint(1, 101)  # предполагаемое число\n",
        "        if number == predict_number:\n",
        "            break  # выход из цикла если угадали\n",
        "\n",
        "    return count\n"
      ],
      "execution_count": 2,
      "outputs": []
    },
    {
      "cell_type": "markdown",
      "metadata": {
        "id": "Da8TSXrE_2QC"
      },
      "source": [
        "## Подход 2: Угадывание с коррекцией"
      ]
    },
    {
      "cell_type": "markdown",
      "metadata": {
        "id": "UeFYnSZi_7uZ"
      },
      "source": [
        "Сначала устанавливаем любое случайное число, а потом уменьшаем или увеличиваем его в зависимости от того, больше оно или меньше нужного."
      ]
    },
    {
      "cell_type": "code",
      "metadata": {
        "id": "bFzp7ROY_QYY"
      },
      "source": [
        "def game_core_v2(number: int = 1) -> int:\n",
        "    \"\"\"Сначала устанавливаем любое random число, а потом уменьшаем\n",
        "    или увеличиваем его в зависимости от того, больше оно или меньше нужного.\n",
        "       Функция принимает загаданное число и возвращает число попыток\n",
        "\n",
        "    Args:\n",
        "        number (int, optional): Загаданное число. Defaults to 1.\n",
        "\n",
        "    Returns:\n",
        "        int: Число попыток\n",
        "    \"\"\"\n",
        "    count = 0\n",
        "    predict = np.random.randint(1, 101)\n",
        "\n",
        "    while number != predict:\n",
        "        count += 1\n",
        "        if number > predict:\n",
        "            predict += 1\n",
        "        elif number < predict:\n",
        "            predict -= 1\n",
        "\n",
        "    return count"
      ],
      "execution_count": 3,
      "outputs": []
    },
    {
      "cell_type": "markdown",
      "metadata": {
        "id": "t3rDQ1wTBaXC"
      },
      "source": [
        "Посмотрим, как эти программы справляются с задачей."
      ]
    },
    {
      "cell_type": "markdown",
      "metadata": {
        "id": "GCu4m8fu_-al"
      },
      "source": [
        "## Функция для оценки"
      ]
    },
    {
      "cell_type": "markdown",
      "metadata": {
        "id": "7ZlAJ37fAJ99"
      },
      "source": [
        "Эта функция необходима, чтобы определить, за какое число попыток программа угадывает наше число."
      ]
    },
    {
      "cell_type": "code",
      "metadata": {
        "id": "t4WXEDFS_ThY"
      },
      "source": [
        "def score_game(random_predict) -> int:\n",
        "    \"\"\"За какое количество попыток в среднем за 10000 подходов угадывает наш алгоритм\n",
        "\n",
        "    Args:\n",
        "        random_predict ([type]): функция угадывания\n",
        "\n",
        "    Returns:\n",
        "        int: среднее количество попыток\n",
        "    \"\"\"\n",
        "    count_ls = []\n",
        "    np.random.seed(1)  # фиксируем сид для воспроизводимости\n",
        "    random_array = np.random.randint(1, 101, size=(10000))  # загадали список чисел\n",
        "\n",
        "    for number in random_array:\n",
        "        count_ls.append(random_predict(number))\n",
        "\n",
        "    score = int(np.mean(count_ls))\n",
        "    print(f\"Ваш алгоритм угадывает число в среднем за: {score} попытки\")"
      ],
      "execution_count": 6,
      "outputs": []
    },
    {
      "cell_type": "markdown",
      "metadata": {
        "id": "PCC3-Hwz-2fL"
      },
      "source": [
        "## Оценка работы алгоритмов\n",
        "Определяем, какой подход лучше."
      ]
    },
    {
      "cell_type": "code",
      "metadata": {
        "id": "khrxOcEB-2fM",
        "colab": {
          "base_uri": "https://localhost:8080/"
        },
        "outputId": "32b2099f-88aa-4942-d5fc-2843bd59fe08"
      },
      "source": [
        "#Run benchmarking to score effectiveness of all algorithms\n",
        "print('Run benchmarking for random_predict: ', end='')\n",
        "score_game(random_predict)\n",
        "\n",
        "print('Run benchmarking for game_core_v2: ', end='')\n",
        "score_game(game_core_v2)"
      ],
      "execution_count": 7,
      "outputs": [
        {
          "output_type": "stream",
          "name": "stdout",
          "text": [
            "Run benchmarking for random_predict: Ваш алгоритм угадывает число в среднем за: 100 попытки\n",
            "Run benchmarking for game_core_v2: Ваш алгоритм угадывает число в среднем за: 32 попытки\n"
          ]
        }
      ]
    },
    {
      "cell_type": "markdown",
      "metadata": {
        "id": "_H0wabPwBfRo"
      },
      "source": [
        "Как мы видим, две предложенные программы показывают не лучший результат.\n",
        "Теперь вы попробуете решить эту задачу и найти более обтимальный алгоритм."
      ]
    },
    {
      "cell_type": "markdown",
      "metadata": {
        "id": "ZIdPcSWzB0G1"
      },
      "source": [
        "## Подход 3: Ваше решение"
      ]
    },
    {
      "cell_type": "markdown",
      "metadata": {
        "id": "KPT5reW1B32U"
      },
      "source": [
        "Напишите функцию, которая принимает на вход загаданное число и возвращает число попыток угадывания."
      ]
    },
    {
      "cell_type": "code",
      "metadata": {
        "id": "IvaUUPIe-2fN"
      },
      "source": [
        "def game_core_v3(number: int = 1) -> int:\n",
        "    \"\"\"\n",
        "    Args:\n",
        "        number (int, optional): Загаданное число. Defaults to 1.\n",
        "\n",
        "    Returns:\n",
        "        int: Число попыток\n",
        "    \"\"\"\n",
        "    count = 1\n",
        "    left, right = 1, 101  # Устанавливаем границы интервала\n",
        "    predict = (left + right) // 2  # Выбираем число в середине интервала\n",
        "\n",
        "    while number != predict:\n",
        "        count += 1\n",
        "        if predict < number:\n",
        "            left = predict + 1\n",
        "        else:\n",
        "            right = predict - 1\n",
        "        predict = (left + right) // 2  # Снова выбираем число в середине нового интервала\n",
        "\n",
        "    return count"
      ],
      "execution_count": 17,
      "outputs": []
    },
    {
      "cell_type": "markdown",
      "metadata": {
        "id": "UDeCIsG9CACE"
      },
      "source": [
        "Оценим качество вашего алгоритма:"
      ]
    },
    {
      "cell_type": "code",
      "metadata": {
        "id": "giSKBUmgCAeh",
        "colab": {
          "base_uri": "https://localhost:8080/"
        },
        "outputId": "d32e9fcc-dffa-45f5-d8ac-c35777817a6b"
      },
      "source": [
        "print('Run benchmarking for game_core_v3: ', end='')\n",
        "score_game(game_core_v3)"
      ],
      "execution_count": 20,
      "outputs": [
        {
          "output_type": "stream",
          "name": "stdout",
          "text": [
            "Run benchmarking for game_core_v3: Ваш алгоритм угадывает число в среднем за: 5 попытки\n"
          ]
        }
      ]
    },
    {
      "cell_type": "markdown",
      "metadata": {
        "id": "7gc6XmUPC04X"
      },
      "source": [
        "Напомним, что для успешного решения задания программа должна угадывать число меньше чем за 20 попыток!"
      ]
    }
  ]
}